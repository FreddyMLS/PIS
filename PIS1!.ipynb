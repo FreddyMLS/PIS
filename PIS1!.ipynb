{
  "nbformat": 4,
  "nbformat_minor": 0,
  "metadata": {
    "colab": {
      "name": "PIS1!.ipynb",
      "provenance": []
    },
    "kernelspec": {
      "name": "python3",
      "display_name": "Python 3"
    }
  },
  "cells": [
    {
      "cell_type": "markdown",
      "metadata": {
        "id": "1h-arT9MX7vx"
      },
      "source": [
        "#Маслов Федор Александрович, КИ19-20Б"
      ]
    },
    {
      "cell_type": "code",
      "metadata": {
        "colab": {
          "base_uri": "https://localhost:8080/"
        },
        "id": "GeWWJ3NIYDDg",
        "outputId": "d5a3e3c2-93a4-434c-90b5-1fa75194c9d7"
      },
      "source": [
        "print(\"Привет мир!!!\")"
      ],
      "execution_count": null,
      "outputs": [
        {
          "output_type": "stream",
          "text": [
            "Привет мир!!!\n"
          ],
          "name": "stdout"
        }
      ]
    }
  ]
}